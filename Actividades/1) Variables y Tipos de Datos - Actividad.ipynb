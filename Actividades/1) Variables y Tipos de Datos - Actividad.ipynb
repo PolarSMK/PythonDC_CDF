{
 "cells": [
  {
   "attachments": {},
   "cell_type": "markdown",
   "metadata": {},
   "source": [
    "## Variables y Tipos de Datos"
   ]
  },
  {
   "attachments": {},
   "cell_type": "markdown",
   "metadata": {},
   "source": [
    "1) Crear una variable que contenga un elemento del conjunto de números enteros y luego imprimir por pantalla"
   ]
  },
  {
   "cell_type": "code",
   "execution_count": 7,
   "metadata": {},
   "outputs": [
    {
     "name": "stdout",
     "output_type": "stream",
     "text": [
      "10\n"
     ]
    }
   ],
   "source": [
    "num=10\n",
    "print(num)"
   ]
  },
  {
   "attachments": {},
   "cell_type": "markdown",
   "metadata": {},
   "source": [
    "2) Imprimir el tipo de dato de la variable 8.5"
   ]
  },
  {
   "cell_type": "code",
   "execution_count": 8,
   "metadata": {},
   "outputs": [
    {
     "name": "stdout",
     "output_type": "stream",
     "text": [
      "<class 'float'>\n"
     ]
    }
   ],
   "source": [
    "print(type(8.5))"
   ]
  },
  {
   "attachments": {},
   "cell_type": "markdown",
   "metadata": {},
   "source": [
    "3) Imprimir el tipo de dato de la variable creada en el punto 1"
   ]
  },
  {
   "cell_type": "code",
   "execution_count": 9,
   "metadata": {},
   "outputs": [
    {
     "name": "stdout",
     "output_type": "stream",
     "text": [
      "<class 'int'>\n"
     ]
    }
   ],
   "source": [
    "print(type(num))"
   ]
  },
  {
   "attachments": {},
   "cell_type": "markdown",
   "metadata": {},
   "source": [
    "4) Crear una variable que contenga tu nombre"
   ]
  },
  {
   "cell_type": "code",
   "execution_count": 40,
   "metadata": {},
   "outputs": [
    {
     "name": "stdout",
     "output_type": "stream",
     "text": [
      "Micaela\n"
     ]
    }
   ],
   "source": [
    "nombre='Micaela'\n",
    "print(nombre)"
   ]
  },
  {
   "attachments": {},
   "cell_type": "markdown",
   "metadata": {},
   "source": [
    "5) Crear una constante que contenga el número Pi"
   ]
  },
  {
   "cell_type": "code",
   "execution_count": 11,
   "metadata": {},
   "outputs": [],
   "source": [
    "PI=3.14"
   ]
  },
  {
   "attachments": {},
   "cell_type": "markdown",
   "metadata": {},
   "source": [
    "6) Mostrar el tipo de dato de la variable creada en el punto 5"
   ]
  },
  {
   "cell_type": "code",
   "execution_count": 12,
   "metadata": {},
   "outputs": [
    {
     "name": "stdout",
     "output_type": "stream",
     "text": [
      "<class 'float'>\n"
     ]
    }
   ],
   "source": [
    "print(type(PI))"
   ]
  },
  {
   "attachments": {},
   "cell_type": "markdown",
   "metadata": {},
   "source": [
    "7) Crear una variable que contenga el valor del número **e** redondeado a 4 decimales"
   ]
  },
  {
   "cell_type": "code",
   "execution_count": 1,
   "metadata": {},
   "outputs": [],
   "source": [
    "E=2.7125"
   ]
  },
  {
   "attachments": {},
   "cell_type": "markdown",
   "metadata": {},
   "source": [
    "8) Crear una variable que contenga el valor 'True' y otra que contenga el valor True. ¿Se trata de lo mismo?"
   ]
  },
  {
   "cell_type": "code",
   "execution_count": 5,
   "metadata": {},
   "outputs": [],
   "source": [
    "var1='True'\n",
    "var2=True"
   ]
  },
  {
   "attachments": {},
   "cell_type": "markdown",
   "metadata": {},
   "source": [
    "9) Imprimir el tipo de dato correspondientes a las variables creadas en el punto 8"
   ]
  },
  {
   "cell_type": "code",
   "execution_count": 13,
   "metadata": {},
   "outputs": [
    {
     "name": "stdout",
     "output_type": "stream",
     "text": [
      "<class 'str'>\n",
      "<class 'bool'>\n"
     ]
    }
   ],
   "source": [
    "print(type(var1))\n",
    "print(type(var2))"
   ]
  },
  {
   "attachments": {},
   "cell_type": "markdown",
   "metadata": {},
   "source": [
    "10) Asignar a una variable, la suma de un número entero y otro decimal"
   ]
  },
  {
   "cell_type": "code",
   "execution_count": 3,
   "metadata": {},
   "outputs": [
    {
     "name": "stdout",
     "output_type": "stream",
     "text": [
      "16.5\n"
     ]
    }
   ],
   "source": [
    "suma1=10+6.5\n",
    "print(suma1)"
   ]
  },
  {
   "attachments": {},
   "cell_type": "markdown",
   "metadata": {},
   "source": [
    "11) Realizar una operación de suma de un número definido como string con un entero"
   ]
  },
  {
   "cell_type": "code",
   "execution_count": 1,
   "metadata": {},
   "outputs": [
    {
     "name": "stdout",
     "output_type": "stream",
     "text": [
      "30\n"
     ]
    }
   ],
   "source": [
    "num1='20'\n",
    "num2=10\n",
    "suma2=(int('20')+10)\n",
    "print(suma2)"
   ]
  },
  {
   "attachments": {},
   "cell_type": "markdown",
   "metadata": {},
   "source": [
    "12) Crear una variable que contenga el valor del punto 7 elevado a la 3"
   ]
  },
  {
   "cell_type": "code",
   "execution_count": 5,
   "metadata": {},
   "outputs": [
    {
     "name": "stdout",
     "output_type": "stream",
     "text": [
      "19.957642578124997\n"
     ]
    }
   ],
   "source": [
    "potencia=E**3\n",
    "print(potencia)"
   ]
  },
  {
   "attachments": {},
   "cell_type": "markdown",
   "metadata": {},
   "source": [
    "13) Pedir al usuario que ingrese un número por teclado y realizar una operación de multiplicación"
   ]
  },
  {
   "cell_type": "code",
   "execution_count": 39,
   "metadata": {},
   "outputs": [
    {
     "name": "stdout",
     "output_type": "stream",
     "text": [
      "25\n"
     ]
    }
   ],
   "source": [
    "num=int(input('Ingrese un número: '))\n",
    "mult=num*num\n",
    "print(mult)"
   ]
  },
  {
   "attachments": {},
   "cell_type": "markdown",
   "metadata": {},
   "source": [
    "14) Obtener el cociente de la división de 27 entre 4 en una variable y luego mostrarla"
   ]
  },
  {
   "cell_type": "code",
   "execution_count": 14,
   "metadata": {},
   "outputs": [
    {
     "name": "stdout",
     "output_type": "stream",
     "text": [
      "6.75\n"
     ]
    }
   ],
   "source": [
    "div1=27/4\n",
    "print(div1)\n"
   ]
  },
  {
   "attachments": {},
   "cell_type": "markdown",
   "metadata": {},
   "source": [
    "15) De la división anterior solamente mostrar la parte entera"
   ]
  },
  {
   "cell_type": "code",
   "execution_count": 15,
   "metadata": {},
   "outputs": [
    {
     "name": "stdout",
     "output_type": "stream",
     "text": [
      "6\n"
     ]
    }
   ],
   "source": [
    "div2=27//4\n",
    "print(div2)\n"
   ]
  },
  {
   "attachments": {},
   "cell_type": "markdown",
   "metadata": {},
   "source": [
    "16) De la división de 27 entre 4 mostrar solamente el resto"
   ]
  },
  {
   "cell_type": "code",
   "execution_count": 16,
   "metadata": {},
   "outputs": [
    {
     "name": "stdout",
     "output_type": "stream",
     "text": [
      "3\n"
     ]
    }
   ],
   "source": [
    "div3=27%4\n",
    "print(div3)"
   ]
  },
  {
   "attachments": {},
   "cell_type": "markdown",
   "metadata": {},
   "source": [
    "17) Utilizando como operandos el número 4 y los resultados obtenidos en los puntos 16 y 17. Obtener 27 como resultado"
   ]
  },
  {
   "cell_type": "code",
   "execution_count": 17,
   "metadata": {},
   "outputs": [
    {
     "name": "stdout",
     "output_type": "stream",
     "text": [
      "27\n"
     ]
    }
   ],
   "source": [
    "cuenta=4*6+3\n",
    "print(cuenta)"
   ]
  },
  {
   "attachments": {},
   "cell_type": "markdown",
   "metadata": {},
   "source": [
    "18) Evaluar si \"2\" es igual a 2. ¿Por qué ocurre eso?"
   ]
  },
  {
   "cell_type": "code",
   "execution_count": 44,
   "metadata": {},
   "outputs": [
    {
     "data": {
      "text/plain": [
       "False"
      ]
     },
     "execution_count": 44,
     "metadata": {},
     "output_type": "execute_result"
    }
   ],
   "source": [
    "\"2\"==2  #Porque \"2\" es de tipo string y 2 es de tipo int"
   ]
  },
  {
   "attachments": {},
   "cell_type": "markdown",
   "metadata": {},
   "source": [
    "19) Utilizar las funciones de cambio de tipo de dato, para que la validación del punto 20 resulte verdadera"
   ]
  },
  {
   "cell_type": "code",
   "execution_count": 45,
   "metadata": {},
   "outputs": [
    {
     "data": {
      "text/plain": [
       "True"
      ]
     },
     "execution_count": 45,
     "metadata": {},
     "output_type": "execute_result"
    }
   ],
   "source": [
    "int(\"2\")==2"
   ]
  },
  {
   "attachments": {},
   "cell_type": "markdown",
   "metadata": {},
   "source": [
    "20) ¿Por qué arroja error el siguiente cambio de tipo de datos? a = float('3,8')"
   ]
  },
  {
   "cell_type": "code",
   "execution_count": null,
   "metadata": {},
   "outputs": [],
   "source": [
    "a=float('3,8')\n",
    "#Porque se debe reemplazar la coma por un punto (3.8)"
   ]
  },
  {
   "attachments": {},
   "cell_type": "markdown",
   "metadata": {},
   "source": [
    "21) Realizar la operación 2 + '2' ¿Por qué no está permitido? ¿Si los dos operandos fueran del mismo tipo, siempre arrojaría el mismo resultado?"
   ]
  },
  {
   "cell_type": "code",
   "execution_count": null,
   "metadata": {},
   "outputs": [],
   "source": [
    "suma=2+'2'\n",
    "#No está permitido porque son distintos tipos de datos (2 es int y '2' es string)\n",
    "#No arrojarían el mismo resultado porque si ambos fuesen de tipo int haría una suma de números dando 4 como resultado \n",
    "#mientras que si fuesen de tipo string solamente sería una cadena de texto que daría como resultado '22'"
   ]
  },
  {
   "cell_type": "markdown",
   "metadata": {},
   "source": [
    "22) Crear una variable que contenga un menú con los elementos '1 - Pizza', '2 - Empanadas', '3 - Milanesas', '4 - Salir', y luego mostrarlo por pantalla"
   ]
  },
  {
   "cell_type": "code",
   "execution_count": 18,
   "metadata": {},
   "outputs": [
    {
     "name": "stdout",
     "output_type": "stream",
     "text": [
      "\n",
      "Menú de comida\n",
      "1-Pizza         2-Empanadas\n",
      "3-Milanesas     4-Salir\n"
     ]
    }
   ],
   "source": [
    "menu='''\n",
    "Menú de comida\n",
    "1-Pizza         2-Empanadas\n",
    "3-Milanesas     4-Salir'''\n",
    "print(menu)\n",
    "\n",
    "##### ANOTACIÓN DE CLASE #####\n",
    "# while True:\n",
    "#     print(menu)\n",
    "#     entrada=input(\"Seleccione una opción: \")\n",
    "#     if entrada == \"1\":\n",
    "#         print(\"Seleccionaste Pizza\")\n",
    "#     elif entrada == \"4\":\n",
    "#         break"
   ]
  },
  {
   "cell_type": "markdown",
   "metadata": {},
   "source": [
    "23) Crear una lista que contenga los números del 1 al 10"
   ]
  },
  {
   "cell_type": "code",
   "execution_count": 24,
   "metadata": {},
   "outputs": [
    {
     "name": "stdout",
     "output_type": "stream",
     "text": [
      "[1, 2, 3, 4, 5, 6, 7, 8, 9, 10]\n"
     ]
    }
   ],
   "source": [
    "listaNum=[1,2,3,4,5,6,7,8,9,10]\n",
    "print(listaNum)"
   ]
  },
  {
   "cell_type": "markdown",
   "metadata": {},
   "source": [
    "24) Imprimir el penultimo elemento de la lista creada en el punto 23"
   ]
  },
  {
   "cell_type": "code",
   "execution_count": 20,
   "metadata": {},
   "outputs": [
    {
     "name": "stdout",
     "output_type": "stream",
     "text": [
      "9\n"
     ]
    }
   ],
   "source": [
    "print(listaNum[-2])"
   ]
  },
  {
   "cell_type": "markdown",
   "metadata": {},
   "source": [
    "25) Modificar el tercer elemento de la lista creada en el punto 23 poniendo tu nombre"
   ]
  },
  {
   "cell_type": "code",
   "execution_count": 37,
   "metadata": {},
   "outputs": [
    {
     "name": "stdout",
     "output_type": "stream",
     "text": [
      "[1, 2, 'Micaela', 4, 5, 6, 7, 8, 9, 10]\n"
     ]
    }
   ],
   "source": [
    "listaNum[2]='Micaela'\n",
    "print(listaNum)"
   ]
  },
  {
   "cell_type": "markdown",
   "metadata": {},
   "source": [
    "26) Construir una matriz de 3x3 que contenga las letras A, B, C, D, E, F, G, H, I"
   ]
  },
  {
   "cell_type": "code",
   "execution_count": 2,
   "metadata": {},
   "outputs": [],
   "source": [
    "matriz=[['A','B','C'],['D','E','F'],['G','H','I']]"
   ]
  },
  {
   "cell_type": "markdown",
   "metadata": {},
   "source": [
    "27) Imprimir la matriz creada en el punto 26"
   ]
  },
  {
   "cell_type": "code",
   "execution_count": 3,
   "metadata": {},
   "outputs": [
    {
     "name": "stdout",
     "output_type": "stream",
     "text": [
      "[['A', 'B', 'C'], ['D', 'E', 'F'], ['G', 'H', 'I']]\n"
     ]
    }
   ],
   "source": [
    "print(matriz)"
   ]
  },
  {
   "cell_type": "markdown",
   "metadata": {},
   "source": [
    "28) Modificar la letra E de la matriz y colocar la letra Z"
   ]
  },
  {
   "cell_type": "code",
   "execution_count": 27,
   "metadata": {},
   "outputs": [
    {
     "name": "stdout",
     "output_type": "stream",
     "text": [
      "[['A', 'B', 'C'], ['D', 'Z', 'F'], ['G', 'H', 'I']]\n"
     ]
    }
   ],
   "source": [
    "matriz[1][1]='Z'\n",
    "print(matriz)"
   ]
  },
  {
   "cell_type": "markdown",
   "metadata": {},
   "source": [
    "29) Cambiar las primeras 3 letras de la matriz por los números 1, 2 y 3"
   ]
  },
  {
   "cell_type": "code",
   "execution_count": 31,
   "metadata": {},
   "outputs": [
    {
     "name": "stdout",
     "output_type": "stream",
     "text": [
      "[[1, 2, 3], ['D', 'Z', 'F'], ['G', 'H', 'I']]\n"
     ]
    }
   ],
   "source": [
    "matriz[0]=[1,2,3]\n",
    "print(matriz)"
   ]
  },
  {
   "cell_type": "markdown",
   "metadata": {},
   "source": [
    "30) Crear una tupla que contenga 5 marcas de ropa"
   ]
  },
  {
   "cell_type": "code",
   "execution_count": 32,
   "metadata": {},
   "outputs": [
    {
     "name": "stdout",
     "output_type": "stream",
     "text": [
      "('Gucci', 'Zara', 'Prada', 'Balenciaga', 'Nike')\n"
     ]
    }
   ],
   "source": [
    "ropa=('Gucci','Zara','Prada','Balenciaga','Nike')\n",
    "print(ropa)"
   ]
  },
  {
   "cell_type": "markdown",
   "metadata": {},
   "source": [
    "31) Imprimir el primer elemento de la tupla creada en el punto 30"
   ]
  },
  {
   "cell_type": "code",
   "execution_count": 33,
   "metadata": {},
   "outputs": [
    {
     "name": "stdout",
     "output_type": "stream",
     "text": [
      "Gucci\n"
     ]
    }
   ],
   "source": [
    "print(ropa[0])"
   ]
  },
  {
   "cell_type": "markdown",
   "metadata": {},
   "source": [
    "32) Intenta modificar el segundo elemento de la tupla. ¿Por qué no se puede?"
   ]
  },
  {
   "cell_type": "code",
   "execution_count": null,
   "metadata": {},
   "outputs": [],
   "source": [
    "ropa[1]='Adidas'\n",
    "#Porque las tuplas una vez creadas no pueden modificarse"
   ]
  },
  {
   "cell_type": "markdown",
   "metadata": {},
   "source": [
    "33) Crear un diccionario que contenga las claves 'nombre', 'apellido', 'edad' y 'hobbies' y asignarle los valores correspondientes (los hobbies deben ser una lista con al menos 3 elementos)"
   ]
  },
  {
   "cell_type": "code",
   "execution_count": 34,
   "metadata": {},
   "outputs": [
    {
     "name": "stdout",
     "output_type": "stream",
     "text": [
      "{'nombre': 'Ema', 'apellido': 'Brown', 'edad': 29, 'hobbies': ['cantar', 'bailar', 'leer']}\n"
     ]
    }
   ],
   "source": [
    "persona={'nombre':'Ema','apellido':'Brown','edad':29,'hobbies':['cantar','bailar','leer']}\n",
    "print(persona)"
   ]
  },
  {
   "cell_type": "markdown",
   "metadata": {},
   "source": [
    "34) Imprimir el valor de la clave 'hobbies' del diccionario creado en el punto anterior"
   ]
  },
  {
   "cell_type": "code",
   "execution_count": 35,
   "metadata": {},
   "outputs": [
    {
     "name": "stdout",
     "output_type": "stream",
     "text": [
      "['cantar', 'bailar', 'leer']\n"
     ]
    }
   ],
   "source": [
    "hobbies=persona.get('hobbies')\n",
    "print(hobbies)"
   ]
  },
  {
   "cell_type": "markdown",
   "metadata": {},
   "source": [
    "35) Modificar el valor de la clave 'edad' del diccionario y mostrarlo por pantalla"
   ]
  },
  {
   "cell_type": "code",
   "execution_count": 36,
   "metadata": {},
   "outputs": [
    {
     "name": "stdout",
     "output_type": "stream",
     "text": [
      "{'nombre': 'Ema', 'apellido': 'Brown', 'edad': 30, 'hobbies': ['cantar', 'bailar', 'leer']}\n"
     ]
    }
   ],
   "source": [
    "persona['edad']=30\n",
    "print(persona)"
   ]
  }
 ],
 "metadata": {
  "interpreter": {
   "hash": "c85384e4cb51c8b72350f3a8712cc8351fdc3955e32a27f9b60c6242ab125f01"
  },
  "kernelspec": {
   "display_name": "Python 3 (ipykernel)",
   "language": "python",
   "name": "python3"
  },
  "language_info": {
   "codemirror_mode": {
    "name": "ipython",
    "version": 3
   },
   "file_extension": ".py",
   "mimetype": "text/x-python",
   "name": "python",
   "nbconvert_exporter": "python",
   "pygments_lexer": "ipython3",
   "version": "3.12.0"
  }
 },
 "nbformat": 4,
 "nbformat_minor": 4
}
