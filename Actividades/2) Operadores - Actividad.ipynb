{
 "cells": [
  {
   "cell_type": "markdown",
   "metadata": {},
   "source": [
    "## Operadores - Actividad"
   ]
  },
  {
   "cell_type": "markdown",
   "metadata": {},
   "source": [
    "1) Pedir al usuario dos números y mostrar por pantalla la suma de ellos."
   ]
  },
  {
   "cell_type": "code",
   "execution_count": null,
   "metadata": {},
   "outputs": [],
   "source": [
    "num1=int(input('Ingresa 1er número: '))\n",
    "num2=int(input('Ingresa 2do número: '))\n",
    "num1+=num2\n",
    "print(num1)"
   ]
  },
  {
   "cell_type": "markdown",
   "metadata": {},
   "source": [
    "2) Calcular el perímetro y área de un rectángulo dada su base y su altura (el usuario debe introducir por teclado los dos valores)."
   ]
  },
  {
   "cell_type": "code",
   "execution_count": null,
   "metadata": {},
   "outputs": [],
   "source": [
    "base= int(input('Ingrese valor de base: '))\n",
    "altura= int(input('Ingrese valor de altura: '))\n",
    "perimetro= altura*2+base*2\n",
    "area= base*altura\n",
    "print(f'El perímetro del rectángulo es {perimetro} y su area es {area}')"
   ]
  },
  {
   "cell_type": "markdown",
   "metadata": {},
   "source": [
    "3) Calcular el resultado de elevar un número entero a otro número entero (por ejemplo, 5 elevado a 3 = 5^3 = 5*5*5)."
   ]
  },
  {
   "cell_type": "code",
   "execution_count": null,
   "metadata": {},
   "outputs": [],
   "source": [
    "num1= int(input('Ingrese 1er número: '))\n",
    "num2= int(input('Ingrese 2do número: '))\n",
    "num1**=num2\n",
    "print(num1)"
   ]
  },
  {
   "cell_type": "markdown",
   "metadata": {},
   "source": [
    "4) Escribe un programa que convierta grados Celsius a grados Fahrenheit utilizando la fórmula: **F = (C * 9/5) + 32**"
   ]
  },
  {
   "cell_type": "code",
   "execution_count": null,
   "metadata": {},
   "outputs": [],
   "source": [
    "celsius=float(input(\"Ingrese grados: \"))\n",
    "print(f\"Grados Celsius: °{celsius}\")\n",
    "fahrenheit= (celsius*9/5)+32\n",
    "print(f\"Grados Fahrenheit: {fahrenheit}\")"
   ]
  },
  {
   "cell_type": "markdown",
   "metadata": {},
   "source": [
    "5) Pedir al usuario su edad y mostrar por pantalla si es mayor de edad o no. (Mayor de edad >= 18)"
   ]
  },
  {
   "cell_type": "code",
   "execution_count": null,
   "metadata": {},
   "outputs": [],
   "source": [
    "edad=int(input(\"Ingrese su edad: \"))\n",
    "if edad>=18:\n",
    "    print(\"Es mayor de edad\")\n",
    "else:\n",
    "    print(\"No es mayor de edad\")"
   ]
  },
  {
   "cell_type": "markdown",
   "metadata": {},
   "source": [
    "6) Comprobar si el numero ingresado por el usuario es par o impar."
   ]
  },
  {
   "cell_type": "code",
   "execution_count": null,
   "metadata": {},
   "outputs": [],
   "source": [
    "num=int(input(\"Ingrese un número: \"))\n",
    "if num%2 == 0:\n",
    "    print(\"Es un número par\")\n",
    "else:\n",
    "    print(\"Es un número impar\")"
   ]
  },
  {
   "cell_type": "markdown",
   "metadata": {},
   "source": [
    "7) Pedir al usuario que ingrese su dirección email y luego mostrar un mensaje indicando si la dirección es válida o no. Una dirección se considerará válida si contiene el símbolo \"@\"."
   ]
  },
  {
   "cell_type": "code",
   "execution_count": null,
   "metadata": {},
   "outputs": [],
   "source": [
    "email=input(\"Ingrese dirección email: \")\n",
    "if \"@\" in email:\n",
    "    print(\"Su dirección de correo es válida\")\n",
    "else:\n",
    "    print(\"Su dirección de correo es inválida\")"
   ]
  },
  {
   "cell_type": "markdown",
   "metadata": {},
   "source": [
    "8) Dado un número de dos cifras, diseñe un algoritmo que permita obtener el número invertido. Ejemplo, si se introduce 23 que muestre 32. (Recordar que las cadenas pueden tratarse como listas de caracteres)."
   ]
  },
  {
   "cell_type": "code",
   "execution_count": null,
   "metadata": {},
   "outputs": [],
   "source": [
    "num= input(\"Ingrese un número de dos cifras: \")\n",
    "print(f\"Número ingresado: {num}\")\n",
    "numInvertido= num[::-1]\n",
    "print(f\"Número invertido: {numInvertido}\")"
   ]
  },
  {
   "cell_type": "markdown",
   "metadata": {},
   "source": [
    "9) Crea un programa que pida al usuario dos números y muestre True si ambos son mayores que 10."
   ]
  },
  {
   "cell_type": "code",
   "execution_count": 20,
   "metadata": {},
   "outputs": [],
   "source": [
    "num1=int(input(\"Ingrese 1er número: \"))\n",
    "num2=int(input(\"Ingrese 2do número: \"))\n",
    "mayores= num1 and num2 > 10\n",
    "print(mayores)"
   ]
  },
  {
   "cell_type": "markdown",
   "metadata": {},
   "source": [
    "10) Escribe un programa que verifique si un número ingresado por el usuario es divisible por 3 y por 5."
   ]
  },
  {
   "cell_type": "code",
   "execution_count": null,
   "metadata": {},
   "outputs": [],
   "source": [
    "num=int(input(\"Ingrese un número: \"))\n",
    "if num%3 == 0 and num%5 == 0:\n",
    "    print(\"El número ingresado es divisible por 3 y 5\")\n",
    "else:\n",
    "    print(\"El número ingresado NO es divisible por 3 y 5\")"
   ]
  },
  {
   "cell_type": "markdown",
   "metadata": {},
   "source": [
    "11) Utilizando la información del punto 5, preguntar al usuario si posee carnet de conducir, luego verificar si puede conducir un automóvil."
   ]
  },
  {
   "cell_type": "code",
   "execution_count": null,
   "metadata": {},
   "outputs": [],
   "source": [
    "carnet=input(\"¿Posee carnet de conducir?\")\n",
    "if carnet==\"Si\":\n",
    "    if edad>=18:\n",
    "        print(\"Usted puede conducir un automóvil ya que tiene carnet y es mayor de edad\")\n",
    "    else:\n",
    "        print(\"Usted no puede conducir un automómovil porque requiere ser mayor de edad\")\n",
    "else:\n",
    "    print(\"Usted no puede conducir porque requiere carnet\")\n",
    "    "
   ]
  },
  {
   "cell_type": "markdown",
   "metadata": {},
   "source": [
    "12) Pide al usuario un número y verifica si es positivo y no es mayor que 100."
   ]
  },
  {
   "cell_type": "code",
   "execution_count": null,
   "metadata": {},
   "outputs": [],
   "source": [
    "num=int(input(\"Ingrese un número: \"))\n",
    "print(\"Número ingresado:\",num)\n",
    "if num >= 0:\n",
    "    if num <= 100:\n",
    "        print(\"Su número es positivo y no es mayor a 100\")\n",
    "    else:\n",
    "        print(\"Su número es positivo, pero es mayor a 100\")\n",
    "else:\n",
    "    print(\"Su número no es positivo ni mayor a 100\")"
   ]
  },
  {
   "cell_type": "markdown",
   "metadata": {},
   "source": [
    "13) Crear un programa que valide si un número ingresado por el usuario es par y mayor que 20."
   ]
  },
  {
   "cell_type": "code",
   "execution_count": null,
   "metadata": {},
   "outputs": [],
   "source": [
    "num=int(input(\"Ingrese un número: \"))\n",
    "print(num)\n",
    "if num%2 == 0:\n",
    "    if num>20:\n",
    "        print(\"Su número es par y mayor que 20\")\n",
    "    else:\n",
    "        print(\"Su número es par, pero no es mayor que 20\")\n",
    "elif num%2 != 0 and num>20:\n",
    "    print(\"Su número no es par, pero es mayor a 20\")\n",
    "else:\n",
    "    print(\"Su número no es par ni es mayor a 20\")"
   ]
  },
  {
   "cell_type": "markdown",
   "metadata": {},
   "source": [
    "14) Dada la variable **numero = 5**, realizar la operación necesaria para que número sea igual a 8. Luego imprimir en pantalla el nuevo valor de número y realizar una nueva operación para que el valor de número sea igual a 4 y mostrar en pantalla el nuevo valor."
   ]
  },
  {
   "cell_type": "code",
   "execution_count": null,
   "metadata": {},
   "outputs": [],
   "source": [
    "numero= 5\n",
    "numero+=3\n",
    "print(numero)\n",
    "\n",
    "numero-=4\n",
    "print(numero)"
   ]
  },
  {
   "cell_type": "markdown",
   "metadata": {},
   "source": [
    "15) Dadas las variables altura = \"10\" y base = 5, calcular el área de un triángulo y mostrar el resultado en pantalla. ¿Por qué el resultado es un error? ¿Cómo lo corregirías?"
   ]
  },
  {
   "cell_type": "code",
   "execution_count": null,
   "metadata": {},
   "outputs": [],
   "source": [
    "altura='10'\n",
    "base= 5\n",
    "areaTriangulo= altura*base\n",
    "print(areaTriangulo)\n",
    "\n",
    "######## SOLUCIÓN #########\n",
    "\n",
    "areaTriangulo= int(altura)*base #Convertir el '10' en entero int() para que haga la suma correspondiente\n",
    "print(areaTriangulo)"
   ]
  },
  {
   "cell_type": "markdown",
   "metadata": {},
   "source": [
    "16) Crea un programa que calcule el promedio de tres calificaciones ingresadas por el usuario, y comprobar si el alumno aprobó o no (aprueba con nota mayor a 6)."
   ]
  },
  {
   "cell_type": "code",
   "execution_count": null,
   "metadata": {},
   "outputs": [],
   "source": [
    "nota1=float(input(\"Ingrese 1era nota: \"))\n",
    "nota2=float(input(\"Ingrese 2da nota: \"))\n",
    "nota3=float(input(\"Ingrese 1era nota: \"))\n",
    "promedio= nota1+nota2+nota3\n",
    "promedio/=3\n",
    "if promedio >= 6:\n",
    "    print(\"El alumno aprobó con una nota de\",promedio)\n",
    "else:\n",
    "    print(\"El alumno no aprobó, obtuvo una nota de\",promedio)"
   ]
  },
  {
   "cell_type": "markdown",
   "metadata": {},
   "source": [
    "17) Pide al usuario su edad y calcula cuántos días, horas y minutos ha vivido aproximadamente (asumiendo 365 días por año)."
   ]
  },
  {
   "cell_type": "code",
   "execution_count": null,
   "metadata": {},
   "outputs": [],
   "source": [
    "edad = int(input(\"Ingrese su edad: \"))\n",
    "print(f\"{edad} años\")\n",
    "dias= edad*365\n",
    "horas= dias*24\n",
    "minutos= horas*60\n",
    "print(f\"Con respecto a su edad ha vivido {dias} dias, {horas} horas y {minutos} minutos aproximadamente\")"
   ]
  },
  {
   "cell_type": "markdown",
   "metadata": {},
   "source": [
    "18) Crea un programa que verifique si un número ingresado por el usuario es múltiplo de 4 y de 6 al mismo tiempo."
   ]
  },
  {
   "cell_type": "code",
   "execution_count": null,
   "metadata": {},
   "outputs": [],
   "source": [
    "num=int(input(\"Ingrese un número: \"))\n",
    "if num%4 == 0 and num%6 == 0:\n",
    "    print(\"El número ingresado es múltiplo de 4 y 6\")\n",
    "else:\n",
    "    print(\"El número ingresado no es múltiplo de 4 y 6\")"
   ]
  }
 ],
 "metadata": {
  "kernelspec": {
   "display_name": "Python 3",
   "language": "python",
   "name": "python3"
  },
  "language_info": {
   "codemirror_mode": {
    "name": "ipython",
    "version": 3
   },
   "file_extension": ".py",
   "mimetype": "text/x-python",
   "name": "python",
   "nbconvert_exporter": "python",
   "pygments_lexer": "ipython3",
   "version": "3.12.0"
  }
 },
 "nbformat": 4,
 "nbformat_minor": 2
}
